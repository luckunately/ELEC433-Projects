{
 "cells": [
  {
   "cell_type": "code",
   "execution_count": null,
   "metadata": {},
   "outputs": [],
   "source": [
    "import math\n",
    "class matrix:\n",
    "    def __init__(self, size):\n",
    "        self.matrix = [[0 for i in range(size)] for j in range(size)]\n",
    "        self.size = size\n",
    "        self.power = math.ceil(math.log2(size))\n",
    "        self.parityBits = [0 for i in range(self.power)]\n",
    "        for i in range(size):\n",
    "            for j in range(size):\n",
    "                self.matrix[i][j] = 0\n",
    "    \n",
    "    def updateParityBits(self):\n",
    "        for i in range(self.size):\n",
    "            for j in range(self.size):\n",
    "                if self.matrix[i][j] == 1:\n",
    "                    self.parityBits.append((i,j))\n",
    "    \n",
    "    def __str__(self):\n",
    "        "
   ]
  }
 ],
 "metadata": {
  "language_info": {
   "name": "python"
  }
 },
 "nbformat": 4,
 "nbformat_minor": 2
}
